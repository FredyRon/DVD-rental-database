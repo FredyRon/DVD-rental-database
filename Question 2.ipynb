{
 "cells": [
  {
   "cell_type": "code",
   "execution_count": 14,
   "id": "d17cd796",
   "metadata": {},
   "outputs": [],
   "source": [
    "import pandas as pd\n",
    "import numpy as np\n",
    "import matplotlib.pyplot as plt"
   ]
  },
  {
   "cell_type": "code",
   "execution_count": 15,
   "id": "9ddc6243",
   "metadata": {},
   "outputs": [],
   "source": [
    "query12_df = pd.read_csv ('Query 12.csv')"
   ]
  },
  {
   "cell_type": "code",
   "execution_count": 16,
   "id": "0f9fc95a",
   "metadata": {},
   "outputs": [
    {
     "data": {
      "text/html": [
       "<div>\n",
       "<style scoped>\n",
       "    .dataframe tbody tr th:only-of-type {\n",
       "        vertical-align: middle;\n",
       "    }\n",
       "\n",
       "    .dataframe tbody tr th {\n",
       "        vertical-align: top;\n",
       "    }\n",
       "\n",
       "    .dataframe thead th {\n",
       "        text-align: right;\n",
       "    }\n",
       "</style>\n",
       "<table border=\"1\" class=\"dataframe\">\n",
       "  <thead>\n",
       "    <tr style=\"text-align: right;\">\n",
       "      <th></th>\n",
       "      <th>film_id</th>\n",
       "      <th>title</th>\n",
       "      <th>description</th>\n",
       "      <th>rental_rate</th>\n",
       "    </tr>\n",
       "  </thead>\n",
       "  <tbody>\n",
       "    <tr>\n",
       "      <th>0</th>\n",
       "      <td>133</td>\n",
       "      <td>Chamber Italian</td>\n",
       "      <td>A Fateful Reflection of a Moose And a Husband ...</td>\n",
       "      <td>4.99</td>\n",
       "    </tr>\n",
       "    <tr>\n",
       "      <th>1</th>\n",
       "      <td>384</td>\n",
       "      <td>Grosse Wonderful</td>\n",
       "      <td>A Epic Drama of a Cat And a Explorer who must ...</td>\n",
       "      <td>4.99</td>\n",
       "    </tr>\n",
       "    <tr>\n",
       "      <th>2</th>\n",
       "      <td>8</td>\n",
       "      <td>Airport Pollock</td>\n",
       "      <td>A Epic Tale of a Moose And a Girl who must Con...</td>\n",
       "      <td>4.99</td>\n",
       "    </tr>\n",
       "    <tr>\n",
       "      <th>3</th>\n",
       "      <td>98</td>\n",
       "      <td>Bright Encounters</td>\n",
       "      <td>A Fateful Yarn of a Lumberjack And a Feminist ...</td>\n",
       "      <td>4.99</td>\n",
       "    </tr>\n",
       "    <tr>\n",
       "      <th>4</th>\n",
       "      <td>1</td>\n",
       "      <td>Academy Dinosaur</td>\n",
       "      <td>A Epic Drama of a Feminist And a Mad Scientist...</td>\n",
       "      <td>0.99</td>\n",
       "    </tr>\n",
       "    <tr>\n",
       "      <th>...</th>\n",
       "      <td>...</td>\n",
       "      <td>...</td>\n",
       "      <td>...</td>\n",
       "      <td>...</td>\n",
       "    </tr>\n",
       "    <tr>\n",
       "      <th>995</th>\n",
       "      <td>996</td>\n",
       "      <td>Young Language</td>\n",
       "      <td>A Unbelieveable Yarn of a Boat And a Database ...</td>\n",
       "      <td>0.99</td>\n",
       "    </tr>\n",
       "    <tr>\n",
       "      <th>996</th>\n",
       "      <td>997</td>\n",
       "      <td>Youth Kick</td>\n",
       "      <td>A Touching Drama of a Teacher And a Cat who mu...</td>\n",
       "      <td>0.99</td>\n",
       "    </tr>\n",
       "    <tr>\n",
       "      <th>997</th>\n",
       "      <td>998</td>\n",
       "      <td>Zhivago Core</td>\n",
       "      <td>A Fateful Yarn of a Composer And a Man who mus...</td>\n",
       "      <td>0.99</td>\n",
       "    </tr>\n",
       "    <tr>\n",
       "      <th>998</th>\n",
       "      <td>999</td>\n",
       "      <td>Zoolander Fiction</td>\n",
       "      <td>A Fateful Reflection of a Waitress And a Boat ...</td>\n",
       "      <td>2.99</td>\n",
       "    </tr>\n",
       "    <tr>\n",
       "      <th>999</th>\n",
       "      <td>1000</td>\n",
       "      <td>Zorro Ark</td>\n",
       "      <td>A Intrepid Panorama of a Mad Scientist And a B...</td>\n",
       "      <td>4.99</td>\n",
       "    </tr>\n",
       "  </tbody>\n",
       "</table>\n",
       "<p>1000 rows × 4 columns</p>\n",
       "</div>"
      ],
      "text/plain": [
       "     film_id              title  \\\n",
       "0        133    Chamber Italian   \n",
       "1        384   Grosse Wonderful   \n",
       "2          8    Airport Pollock   \n",
       "3         98  Bright Encounters   \n",
       "4          1   Academy Dinosaur   \n",
       "..       ...                ...   \n",
       "995      996     Young Language   \n",
       "996      997         Youth Kick   \n",
       "997      998       Zhivago Core   \n",
       "998      999  Zoolander Fiction   \n",
       "999     1000          Zorro Ark   \n",
       "\n",
       "                                           description  rental_rate  \n",
       "0    A Fateful Reflection of a Moose And a Husband ...         4.99  \n",
       "1    A Epic Drama of a Cat And a Explorer who must ...         4.99  \n",
       "2    A Epic Tale of a Moose And a Girl who must Con...         4.99  \n",
       "3    A Fateful Yarn of a Lumberjack And a Feminist ...         4.99  \n",
       "4    A Epic Drama of a Feminist And a Mad Scientist...         0.99  \n",
       "..                                                 ...          ...  \n",
       "995  A Unbelieveable Yarn of a Boat And a Database ...         0.99  \n",
       "996  A Touching Drama of a Teacher And a Cat who mu...         0.99  \n",
       "997  A Fateful Yarn of a Composer And a Man who mus...         0.99  \n",
       "998  A Fateful Reflection of a Waitress And a Boat ...         2.99  \n",
       "999  A Intrepid Panorama of a Mad Scientist And a B...         4.99  \n",
       "\n",
       "[1000 rows x 4 columns]"
      ]
     },
     "execution_count": 16,
     "metadata": {},
     "output_type": "execute_result"
    }
   ],
   "source": [
    "query12_df"
   ]
  },
  {
   "cell_type": "code",
   "execution_count": 17,
   "id": "40a2524f",
   "metadata": {},
   "outputs": [],
   "source": [
    "def sentiment_detection(sentence):\n",
    "    positive_words = ('Fateful', 'Beautiful', 'Fanciful', 'Emotional', 'Brilliant', 'Touching')\n",
    "    negative_words = ('Epic', 'Astounding', 'Boring', 'Unbelievable', 'Saga' , 'Panorama')\n",
    "\n",
    "    positive = any(sentence.count(i) > 0 for i in positive_words)\n",
    "    negative = any(sentence.count(i) > 0 for i in negative_words)\n",
    "\n",
    "    if positive == negative == False:\n",
    "        return \"neutral\"\n",
    "    elif positive != negative:\n",
    "        return \"positive\" if positive else \"negative\"\n",
    "    else:\n",
    "        return \"mixed\""
   ]
  },
  {
   "cell_type": "code",
   "execution_count": 18,
   "id": "0af12b16",
   "metadata": {},
   "outputs": [
    {
     "data": {
      "text/plain": [
       "0      positive\n",
       "1      negative\n",
       "2      negative\n",
       "3      positive\n",
       "4      negative\n",
       "         ...   \n",
       "995     neutral\n",
       "996    positive\n",
       "997    positive\n",
       "998    positive\n",
       "999    negative\n",
       "Name: description, Length: 1000, dtype: object"
      ]
     },
     "execution_count": 18,
     "metadata": {},
     "output_type": "execute_result"
    }
   ],
   "source": [
    "query12_df['description'].apply(sentiment_detection)"
   ]
  },
  {
   "cell_type": "code",
   "execution_count": 22,
   "id": "7c47a6b7",
   "metadata": {},
   "outputs": [],
   "source": [
    "query12_df['sentiment'] = query12_df['description'].apply(sentiment_detection)\n"
   ]
  },
  {
   "cell_type": "code",
   "execution_count": 23,
   "id": "11648df9",
   "metadata": {},
   "outputs": [
    {
     "name": "stdout",
     "output_type": "stream",
     "text": [
      "0      positive\n",
      "1      negative\n",
      "2      negative\n",
      "3      positive\n",
      "4      negative\n",
      "         ...   \n",
      "995     neutral\n",
      "996    positive\n",
      "997    positive\n",
      "998    positive\n",
      "999    negative\n",
      "Name: sentiment, Length: 1000, dtype: object\n"
     ]
    }
   ],
   "source": [
    "print(query12_df['sentiment'])"
   ]
  },
  {
   "cell_type": "code",
   "execution_count": 26,
   "id": "2905f199",
   "metadata": {},
   "outputs": [
    {
     "name": "stdout",
     "output_type": "stream",
     "text": [
      "     film_id              title  \\\n",
      "0        133    Chamber Italian   \n",
      "1        384   Grosse Wonderful   \n",
      "2          8    Airport Pollock   \n",
      "3         98  Bright Encounters   \n",
      "4          1   Academy Dinosaur   \n",
      "..       ...                ...   \n",
      "995      996     Young Language   \n",
      "996      997         Youth Kick   \n",
      "997      998       Zhivago Core   \n",
      "998      999  Zoolander Fiction   \n",
      "999     1000          Zorro Ark   \n",
      "\n",
      "                                           description  rental_rate sentiment  \n",
      "0    A Fateful Reflection of a Moose And a Husband ...         4.99  positive  \n",
      "1    A Epic Drama of a Cat And a Explorer who must ...         4.99  negative  \n",
      "2    A Epic Tale of a Moose And a Girl who must Con...         4.99  negative  \n",
      "3    A Fateful Yarn of a Lumberjack And a Feminist ...         4.99  positive  \n",
      "4    A Epic Drama of a Feminist And a Mad Scientist...         0.99  negative  \n",
      "..                                                 ...          ...       ...  \n",
      "995  A Unbelieveable Yarn of a Boat And a Database ...         0.99   neutral  \n",
      "996  A Touching Drama of a Teacher And a Cat who mu...         0.99  positive  \n",
      "997  A Fateful Yarn of a Composer And a Man who mus...         0.99  positive  \n",
      "998  A Fateful Reflection of a Waitress And a Boat ...         2.99  positive  \n",
      "999  A Intrepid Panorama of a Mad Scientist And a B...         4.99  negative  \n",
      "\n",
      "[1000 rows x 5 columns]\n"
     ]
    }
   ],
   "source": [
    "#sentiment_query12_df.head()\n",
    "print(query12_df)"
   ]
  },
  {
   "cell_type": "code",
   "execution_count": null,
   "id": "5ad5dccf",
   "metadata": {},
   "outputs": [],
   "source": []
  }
 ],
 "metadata": {},
 "nbformat": 4,
 "nbformat_minor": 5
}
