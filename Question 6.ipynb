{
 "cells": [
  {
   "cell_type": "code",
   "execution_count": 1,
   "id": "19302c06",
   "metadata": {},
   "outputs": [],
   "source": [
    "import pandas as pd\n",
    "\n",
    "\n",
    "df = pd.read_csv('Query 15.csv')\n",
    "\n",
    "\n",
    "continentes = {\n",
    "    'Asia': ['China', 'India', 'Japan', 'South Korea'],\n",
    "    'América': ['United States', 'Canada', 'Mexico', 'Brazil'],\n",
    "    'Europa': ['Spain', 'France', 'Germany', 'Italy'],\n",
    "    'África': ['Nigeria', 'South Africa', 'Egypt', 'Kenya'],\n",
    "    'Oceanía': ['Australia', 'New Zealand', 'Fiji', 'Papua New Guinea']\n",
    "}\n",
    "\n",
    "\n",
    "def asignar_categoria(pais):\n",
    "    for continente, paises in continentes.items():\n",
    "        if pais in paises:\n",
    "            return continente\n",
    "    return 'Desconocido'\n",
    "\n",
    "\n",
    "df['Categoria'] = df['country'].apply(asignar_categoria)\n",
    "\n",
    "\n",
    "df = df.sort_values('Categoria')\n",
    "\n",
    "\n",
    "df.to_csv('Query_con_categoria.csv', index=False)\n"
   ]
  },
  {
   "cell_type": "code",
   "execution_count": null,
   "id": "9b4b33a6",
   "metadata": {},
   "outputs": [],
   "source": []
  }
 ],
 "metadata": {
  "kernelspec": {
   "display_name": "Python 3 (ipykernel)",
   "language": "python",
   "name": "python3"
  },
  "language_info": {
   "codemirror_mode": {
    "name": "ipython",
    "version": 3
   },
   "file_extension": ".py",
   "mimetype": "text/x-python",
   "name": "python",
   "nbconvert_exporter": "python",
   "pygments_lexer": "ipython3",
   "version": "3.11.4"
  }
 },
 "nbformat": 4,
 "nbformat_minor": 5
}
