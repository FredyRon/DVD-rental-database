{
 "cells": [
  {
   "cell_type": "code",
   "execution_count": null,
   "id": "740c8e86",
   "metadata": {},
   "outputs": [],
   "source": [
    "import pandas as pd\n",
    "import numpy as np\n",
    "import matplotlib.pyplot as plt"
   ]
  },
  {
   "cell_type": "code",
   "execution_count": 24,
   "id": "0846ae05",
   "metadata": {},
   "outputs": [],
   "source": [
    "df = pd.read_csv('Query 14.csv') \n",
    "\n",
    "\n"
   ]
  },
  {
   "cell_type": "code",
   "execution_count": 25,
   "id": "a6a8f889",
   "metadata": {},
   "outputs": [
    {
     "data": {
      "text/html": [
       "<div>\n",
       "<style scoped>\n",
       "    .dataframe tbody tr th:only-of-type {\n",
       "        vertical-align: middle;\n",
       "    }\n",
       "\n",
       "    .dataframe tbody tr th {\n",
       "        vertical-align: top;\n",
       "    }\n",
       "\n",
       "    .dataframe thead th {\n",
       "        text-align: right;\n",
       "    }\n",
       "</style>\n",
       "<table border=\"1\" class=\"dataframe\">\n",
       "  <thead>\n",
       "    <tr style=\"text-align: right;\">\n",
       "      <th></th>\n",
       "      <th>actor_id</th>\n",
       "      <th>actor_name</th>\n",
       "      <th>total_amount</th>\n",
       "    </tr>\n",
       "  </thead>\n",
       "  <tbody>\n",
       "    <tr>\n",
       "      <th>0</th>\n",
       "      <td>107</td>\n",
       "      <td>Gina Degeneres</td>\n",
       "      <td>3129.17</td>\n",
       "    </tr>\n",
       "    <tr>\n",
       "      <th>1</th>\n",
       "      <td>181</td>\n",
       "      <td>Matthew Carrey</td>\n",
       "      <td>2543.78</td>\n",
       "    </tr>\n",
       "    <tr>\n",
       "      <th>2</th>\n",
       "      <td>198</td>\n",
       "      <td>Mary Keitel</td>\n",
       "      <td>2426.92</td>\n",
       "    </tr>\n",
       "    <tr>\n",
       "      <th>3</th>\n",
       "      <td>81</td>\n",
       "      <td>Scarlett Damon</td>\n",
       "      <td>2403.81</td>\n",
       "    </tr>\n",
       "    <tr>\n",
       "      <th>4</th>\n",
       "      <td>102</td>\n",
       "      <td>Walter Torn</td>\n",
       "      <td>2403.18</td>\n",
       "    </tr>\n",
       "  </tbody>\n",
       "</table>\n",
       "</div>"
      ],
      "text/plain": [
       "   actor_id      actor_name  total_amount\n",
       "0       107  Gina Degeneres       3129.17\n",
       "1       181  Matthew Carrey       2543.78\n",
       "2       198     Mary Keitel       2426.92\n",
       "3        81  Scarlett Damon       2403.81\n",
       "4       102     Walter Torn       2403.18"
      ]
     },
     "execution_count": 25,
     "metadata": {},
     "output_type": "execute_result"
    }
   ],
   "source": [
    "df.head()\n"
   ]
  },
  {
   "cell_type": "code",
   "execution_count": 26,
   "id": "30d74ea8",
   "metadata": {},
   "outputs": [
    {
     "name": "stdout",
     "output_type": "stream",
     "text": [
      "     actor_id          actor_name  total_amount\n",
      "106       107      Gina Degeneres       3129.17\n",
      "180       181      Matthew Carrey       2543.78\n",
      "197       198         Mary Keitel       2426.92\n",
      "80         81      Scarlett Damon       2403.81\n",
      "101       102         Walter Torn       2403.18\n",
      "59         60         Henry Berry       2392.36\n",
      "57         58    Christian Akroyd       2378.97\n",
      "143       144  Angela Witherspoon       2357.11\n",
      "110       111   Cameron Zellweger       2322.94\n",
      "27         28       Woody Hoffman       2315.92\n"
     ]
    }
   ],
   "source": [
    "\n",
    "# Agrupar por actor_id y actor_name, y calcular el total_amount\n",
    "actores_total_amount = df.groupby(['actor_id', 'actor_name']).agg({'total_amount': 'sum'}).reset_index()\n",
    "\n",
    "# Ordenar el DataFrame por el total_amount en orden descendente\n",
    "actores_sorted = actores_total_amount.sort_values('total_amount', ascending=False)\n",
    "\n",
    "# Tomar los primeros 10 registros (los actores con el total_amount más alto)\n",
    "top_10_actores = actores_sorted.head(10)\n",
    "\n",
    "# Mostrar la lista de los 10 actores con el mayor total_amount\n",
    "print(top_10_actores)\n"
   ]
  },
  {
   "cell_type": "code",
   "execution_count": null,
   "id": "5ca65095",
   "metadata": {},
   "outputs": [],
   "source": []
  }
 ],
 "metadata": {},
 "nbformat": 4,
 "nbformat_minor": 5
}
